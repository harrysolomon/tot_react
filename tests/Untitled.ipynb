{
 "cells": [
  {
   "cell_type": "code",
   "execution_count": 56,
   "metadata": {},
   "outputs": [],
   "source": [
    "import pandas as pd"
   ]
  },
  {
   "cell_type": "code",
   "execution_count": 8,
   "metadata": {},
   "outputs": [],
   "source": [
    "request = [{\n",
    "        \"_id\": \"60564d9c45b373e6c0c558d5\",\n",
    "        \"name\": \"A Fifth One\",\n",
    "        \"inputs\": [\n",
    "            {\n",
    "                \"cadences\": {\n",
    "                    \"_id\": \"6042ed163b465a4fcabdbbb4\",\n",
    "                    \"name\": \"Quarterly\",\n",
    "                    \"period\": \"quarter\"\n",
    "                },\n",
    "                \"current_time_spent_period\": {\n",
    "                    \"_id\": \"6042ecf23b465a4fcabdbbb2\",\n",
    "                    \"name\": \"Weekly\",\n",
    "                    \"period\": \"week\",\n",
    "                    \"plural\": \"Weeks\",\n",
    "                    \"abbr\": \"Wks\"\n",
    "                },\n",
    "                \"employees\": {\n",
    "                    \"_id\": \"6042edda3b465a4fcabdbbb7\",\n",
    "                    \"name\": \"Account Management\",\n",
    "                    \"cost\": 65000,\n",
    "                    \"period\": \"year\"\n",
    "                },\n",
    "                \"products\": {\n",
    "                    \"_id\": \"6042ebf991adc4633779ce0d\",\n",
    "                    \"name\": \"Another Product\",\n",
    "                    \"cost\": 5000,\n",
    "                    \"period\": \"quarter\",\n",
    "                    \"time_save\": 80,\n",
    "                    \"time_unit\": \"hour\"\n",
    "                },\n",
    "                \"_id\": \"6056500b45b373e6c0c558e3\",\n",
    "                \"current_time_spent\": 35,\n",
    "                \"name\": \"something\"\n",
    "            },\n",
    "            {\n",
    "                \"cadences\": {\n",
    "                    \"_id\": \"6042ecf23b465a4fcabdbbb2\",\n",
    "                    \"name\": \"Weekly\",\n",
    "                    \"period\": \"week\"\n",
    "                },\n",
    "                \"current_time_spent_period\": {\n",
    "                    \"_id\": \"6042ed073b465a4fcabdbbb3\",\n",
    "                    \"name\": \"Monthly\",\n",
    "                    \"period\": \"month\",\n",
    "                    \"plural\": \"Months\",\n",
    "                    \"abbr\": \"Mths\"\n",
    "                },\n",
    "                \"employees\": {\n",
    "                    \"_id\": \"60500be37d6969c0bb0a9e25\",\n",
    "                    \"name\": \"VP Engineering\",\n",
    "                    \"cost\": 200000,\n",
    "                    \"period\": \"year\"\n",
    "                },\n",
    "                \"products\": {\n",
    "                    \"_id\": \"605173f4ca68e6c83a8bc803\",\n",
    "                    \"name\": \"This product saves 5 hours a month\",\n",
    "                    \"cost\": 1000,\n",
    "                    \"period\": \"year\",\n",
    "                    \"time_save\": 5,\n",
    "                    \"time_unit\": \"hour\"\n",
    "                },\n",
    "                \"_id\": \"6056500b45b373e6c0c558e4\",\n",
    "                \"current_time_spent\": 10,\n",
    "                \"name\": \"Harrison Solomon\"\n",
    "            }\n",
    "        ]\n",
    "}]\n",
    "            "
   ]
  },
  {
   "cell_type": "code",
   "execution_count": 15,
   "metadata": {},
   "outputs": [],
   "source": [
    "req = request[0][\"inputs\"]"
   ]
  },
  {
   "cell_type": "code",
   "execution_count": 14,
   "metadata": {
    "scrolled": false
   },
   "outputs": [],
   "source": [
    "date_dict = {\n",
    "            \"year\": {\n",
    "                    \"hour\": 2096,\n",
    "                    \"day\": 262,\n",
    "                    \"quarter\": 4,\n",
    "                    \"month\": 12,\n",
    "                    \"week\": 52,\n",
    "                    \"year\": 1,\n",
    "                    \"abbr\": \"Y\"\n",
    "              },\n",
    "              \"week\":{\n",
    "                \"hour\": 40,\n",
    "                \"year\": (40/2096),\n",
    "                \"quarter\": (40/524),\n",
    "                \"day\": 5,\n",
    "                \"week\": 1,\n",
    "                \"month\": (12/52),\n",
    "                \"abbr\": \"W\"\n",
    "            },\n",
    "            \"month\":{\n",
    "                \"hour\": (2080/12),\n",
    "                \"year\": (1/12),\n",
    "                \"quarter\": (1/4),\n",
    "                \"day\": (262/12),\n",
    "                \"week\": (52/12),\n",
    "                \"month\": 1,\n",
    "                \"abbr\": \"M\"\n",
    "            },\n",
    "              \"day\":{\n",
    "                  \"hour\": 8,\n",
    "                  \"year\": (1/262),\n",
    "                  \"quarter\": (1/65.5),\n",
    "                  \"day\": 1,\n",
    "                  \"week\": (1/52),\n",
    "                  \"month\": (12/262),\n",
    "                  \"abbr\": \"D\"\n",
    "              },\n",
    "              \"hour\":{\n",
    "                  \"day\":  (1/8),\n",
    "                  \"year\": (1/(262*8)),\n",
    "                  \"quarter\": (1/((262/4)*8)),\n",
    "                  \"hour\": 1,\n",
    "                  \"week\": (1/40),\n",
    "                  \"month\": (12/2080),\n",
    "                  \"abbr\": \"H\"\n",
    "              },\n",
    "              \"quarter\":{\n",
    "                  \"hour\": 524,\n",
    "                  \"day\": 65.5,\n",
    "                  \"year\": (1/4),\n",
    "                  \"quarter\": 1,\n",
    "                  \"week\": (524/40),\n",
    "                  \"month\": 4,\n",
    "                  \"abbr\": \"Q\"\n",
    "              }\n",
    "          }"
   ]
  },
  {
   "cell_type": "code",
   "execution_count": 72,
   "metadata": {},
   "outputs": [],
   "source": [
    "columns = [\"current_time_spent_period\",\"employee_cost_period\",\"employee_cost_ratio\",\"employee_salary\",\"current_time_spent\",\"cost_per_task\",\"report_interval\",\"task_cadence\",\"cadence_interval_ratio\",\"cost_per_period\"]\n",
    "\n"
   ]
  },
  {
   "cell_type": "code",
   "execution_count": 76,
   "metadata": {},
   "outputs": [
    {
     "name": "stdout",
     "output_type": "stream",
     "text": [
      "Empty DataFrame\n",
      "Columns: [current_time_spent_period, employee_cost_period, employee_cost_ratio, employee_salary, current_time_spent, cost_per_task, report_interval, task_cadence, cadence_interval_ratio, cost_per_period]\n",
      "Index: []\n",
      "  current_time_spent_period employee_cost_period  employee_cost_ratio  \\\n",
      "0                      week                 year             0.019084   \n",
      "\n",
      "  employee_salary current_time_spent  cost_per_task report_interval  \\\n",
      "0           65000                 35   43416.030534         quarter   \n",
      "\n",
      "  task_cadence cadence_interval_ratio  cost_per_period  \n",
      "0      quarter                      1     43416.030534  \n"
     ]
    }
   ],
   "source": [
    "dfObj = pd.DataFrame(columns=columns)\n",
    "for i in range(len(req)):\n",
    "    print(dfObj)\n",
    "    output = {}\n",
    "    output[\"current_time_spent_period\"] = req[i][\"current_time_spent_period\"][\"period\"]\n",
    "    output[\"employee_cost_period\"] = req[i][\"employees\"][\"period\"]\n",
    "    output[\"employee_cost_ratio\"] = date_dict[output[\"current_time_spent_period\"]][output[\"employee_cost_period\"]]\n",
    "    output[\"employee_salary\"] = req[i][\"employees\"][\"cost\"]\n",
    "    output[\"current_time_spent\"] = req[i][\"current_time_spent\"]\n",
    "    output[\"cost_per_task\"] = output[\"employee_salary\"] * output[\"current_time_spent\"] * output[\"employee_cost_ratio\"]\n",
    "    output[\"report_interval\"] = \"quarter\"\n",
    "    output[\"task_cadence\"] = req[i][\"cadences\"][\"period\"]\n",
    "    output[\"cadence_interval_ratio\"] = date_dict[ output[\"report_interval\"]][output[\"task_cadence\"]]\n",
    "    output[\"cost_per_period\"] = output[\"cost_per_task\"] * output[\"cadence_interval_ratio\"]\n",
    "    #row_output = pd.DataFrame(output,index=[0])\n",
    "    dfObj = dfObj.append(output,ignore_index=True)"
   ]
  },
  {
   "cell_type": "code",
   "execution_count": 77,
   "metadata": {},
   "outputs": [
    {
     "data": {
      "text/html": [
       "<div>\n",
       "<style scoped>\n",
       "    .dataframe tbody tr th:only-of-type {\n",
       "        vertical-align: middle;\n",
       "    }\n",
       "\n",
       "    .dataframe tbody tr th {\n",
       "        vertical-align: top;\n",
       "    }\n",
       "\n",
       "    .dataframe thead th {\n",
       "        text-align: right;\n",
       "    }\n",
       "</style>\n",
       "<table border=\"1\" class=\"dataframe\">\n",
       "  <thead>\n",
       "    <tr style=\"text-align: right;\">\n",
       "      <th></th>\n",
       "      <th>current_time_spent_period</th>\n",
       "      <th>employee_cost_period</th>\n",
       "      <th>employee_cost_ratio</th>\n",
       "      <th>employee_salary</th>\n",
       "      <th>current_time_spent</th>\n",
       "      <th>cost_per_task</th>\n",
       "      <th>report_interval</th>\n",
       "      <th>task_cadence</th>\n",
       "      <th>cadence_interval_ratio</th>\n",
       "      <th>cost_per_period</th>\n",
       "    </tr>\n",
       "  </thead>\n",
       "  <tbody>\n",
       "    <tr>\n",
       "      <th>0</th>\n",
       "      <td>week</td>\n",
       "      <td>year</td>\n",
       "      <td>0.019084</td>\n",
       "      <td>65000</td>\n",
       "      <td>35</td>\n",
       "      <td>43416.030534</td>\n",
       "      <td>quarter</td>\n",
       "      <td>quarter</td>\n",
       "      <td>1</td>\n",
       "      <td>4.341603e+04</td>\n",
       "    </tr>\n",
       "    <tr>\n",
       "      <th>1</th>\n",
       "      <td>month</td>\n",
       "      <td>year</td>\n",
       "      <td>0.083333</td>\n",
       "      <td>200000</td>\n",
       "      <td>10</td>\n",
       "      <td>166666.666667</td>\n",
       "      <td>quarter</td>\n",
       "      <td>week</td>\n",
       "      <td>13.1</td>\n",
       "      <td>2.183333e+06</td>\n",
       "    </tr>\n",
       "  </tbody>\n",
       "</table>\n",
       "</div>"
      ],
      "text/plain": [
       "  current_time_spent_period employee_cost_period  employee_cost_ratio  \\\n",
       "0                      week                 year             0.019084   \n",
       "1                     month                 year             0.083333   \n",
       "\n",
       "  employee_salary current_time_spent  cost_per_task report_interval  \\\n",
       "0           65000                 35   43416.030534         quarter   \n",
       "1          200000                 10  166666.666667         quarter   \n",
       "\n",
       "  task_cadence cadence_interval_ratio  cost_per_period  \n",
       "0      quarter                      1     4.341603e+04  \n",
       "1         week                   13.1     2.183333e+06  "
      ]
     },
     "execution_count": 77,
     "metadata": {},
     "output_type": "execute_result"
    }
   ],
   "source": [
    "dfObj"
   ]
  },
  {
   "cell_type": "code",
   "execution_count": null,
   "metadata": {},
   "outputs": [],
   "source": [
    "output[\"current_time_spent_period\"] = current_time_spent_period\n",
    "output[\"employee_cost_period\"] = employee_cost_period\n",
    "output[\"employee_cost_ratio\"] = employee_cost_ratio\n",
    "output[\"employee_salary\"] = employee_salary\n",
    "output[\"current_time_spent\"] = current_time_spent\n",
    "output[\"cost_per_task\"] = cost_per_task\n",
    "output[\"report_interval\"] = report_interval\n",
    "output[\"task_cadence\"] = task_cadence\n",
    "output[\"cadence_interval_ratio\"] = cadence_interval_ratio\n",
    "output[\"cost_per_period\"] = cost_per_period"
   ]
  },
  {
   "cell_type": "code",
   "execution_count": 21,
   "metadata": {},
   "outputs": [],
   "source": [
    "current_time_spent_period = req[0][\"current_time_spent_period\"][\"period\"]"
   ]
  },
  {
   "cell_type": "code",
   "execution_count": 22,
   "metadata": {},
   "outputs": [],
   "source": [
    "employee_cost_period = req[0][\"employees\"][\"period\"]"
   ]
  },
  {
   "cell_type": "code",
   "execution_count": 27,
   "metadata": {},
   "outputs": [],
   "source": [
    "employee_cost_ratio = date_dict[current_time_spent_period][employee_cost_period]"
   ]
  },
  {
   "cell_type": "code",
   "execution_count": 31,
   "metadata": {},
   "outputs": [],
   "source": [
    "employee_salary = req[0][\"employees\"][\"cost\"]"
   ]
  },
  {
   "cell_type": "code",
   "execution_count": 32,
   "metadata": {},
   "outputs": [],
   "source": [
    "current_time_spent = req[0][\"current_time_spent\"]"
   ]
  },
  {
   "cell_type": "code",
   "execution_count": 33,
   "metadata": {},
   "outputs": [],
   "source": [
    "cost_per_task = employee_salary * current_time_spent * employee_cost_ratio"
   ]
  },
  {
   "cell_type": "code",
   "execution_count": 45,
   "metadata": {},
   "outputs": [],
   "source": [
    "report_interval = 'quarter'"
   ]
  },
  {
   "cell_type": "code",
   "execution_count": 46,
   "metadata": {},
   "outputs": [],
   "source": [
    "task_cadence = req[0][\"cadences\"][\"period\"]"
   ]
  },
  {
   "cell_type": "code",
   "execution_count": 48,
   "metadata": {
    "scrolled": true
   },
   "outputs": [],
   "source": [
    "cadence_interval_ratio = date_dict[report_interval][task_cadence]"
   ]
  },
  {
   "cell_type": "code",
   "execution_count": 49,
   "metadata": {},
   "outputs": [],
   "source": [
    "cost_per_period = cost_per_task * cadence_interval_ratio"
   ]
  },
  {
   "cell_type": "code",
   "execution_count": 50,
   "metadata": {},
   "outputs": [],
   "source": [
    "output = {}"
   ]
  },
  {
   "cell_type": "code",
   "execution_count": 51,
   "metadata": {},
   "outputs": [],
   "source": [
    "output[\"current_time_spent_period\"] = current_time_spent_period\n",
    "output[\"employee_cost_period\"] = employee_cost_period\n",
    "output[\"employee_cost_ratio\"] = employee_cost_ratio\n",
    "output[\"employee_salary\"] = employee_salary\n",
    "output[\"current_time_spent\"] = current_time_spent\n",
    "output[\"cost_per_task\"] = cost_per_task\n",
    "output[\"report_interval\"] = report_interval\n",
    "output[\"task_cadence\"] = task_cadence\n",
    "output[\"cadence_interval_ratio\"] = cadence_interval_ratio\n",
    "output[\"cost_per_period\"] = cost_per_period"
   ]
  },
  {
   "cell_type": "code",
   "execution_count": 52,
   "metadata": {},
   "outputs": [
    {
     "data": {
      "text/plain": [
       "{'current_time_spent_period': 'week',\n",
       " 'employee_cost_period': 'year',\n",
       " 'employee_cost_ratio': 0.019083969465648856,\n",
       " 'employee_salary': 65000,\n",
       " 'current_time_spent': 35,\n",
       " 'cost_per_task': 43416.03053435114,\n",
       " 'report_interval': 'quarter',\n",
       " 'task_cadence': 'quarter',\n",
       " 'cadence_interval_ratio': 1,\n",
       " 'cost_per_period': 43416.03053435114}"
      ]
     },
     "execution_count": 52,
     "metadata": {},
     "output_type": "execute_result"
    }
   ],
   "source": [
    "output"
   ]
  },
  {
   "cell_type": "code",
   "execution_count": null,
   "metadata": {},
   "outputs": [],
   "source": []
  }
 ],
 "metadata": {
  "kernelspec": {
   "display_name": "Python 3",
   "language": "python",
   "name": "python3"
  },
  "language_info": {
   "codemirror_mode": {
    "name": "ipython",
    "version": 3
   },
   "file_extension": ".py",
   "mimetype": "text/x-python",
   "name": "python",
   "nbconvert_exporter": "python",
   "pygments_lexer": "ipython3",
   "version": "3.7.0"
  }
 },
 "nbformat": 4,
 "nbformat_minor": 4
}
